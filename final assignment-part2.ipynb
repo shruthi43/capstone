{
    "cells": [
        {
            "cell_type": "markdown",
            "metadata": {
                "collapsed": true
            },
            "source": "\n<h1>Capstone Project<h1>\n<h2>Introduction/Business Problem<h2>\n<h6>In this project, we will try to find an optimal location for an Italian restuarant in Berlin, Germany.<br>\nWe will detect locations which are not already crowded with restuarants and no Italian restaurants in its vicinity.<br>\n    They should also be close to the city centre</h6>"
        },
        {
            "cell_type": "markdown",
            "metadata": {},
            "source": "<h1>DATA<h1>"
        },
        {
            "cell_type": "markdown",
            "metadata": {},
            "source": "<h6>Based on definition of our problem, factors that will influence our decision are:<br>\nnumber of existing restaurants in the neighborhood (any type of restaurant)\nnumber of and distance to Italian restaurants in the neighborhood, if any\ndistance of neighborhood from city center\nWe decided to use regularly spaced grid of locations, centered around city center, to define our neighborhoods.\nFollowing data sources will be needed to extract/generate the required information:\ncenters of candidate areas will be generated algorithmically and approximate addresses of centers of those areas will be obtained using Google\nMaps API reverse geocoding\nnumber of restaurants and their type and location in every neighborhood will be obtained using Foursquare API\ncoordinate of Berlin center will be obtained using Google Maps API geocoding of well known Berlin location (Alexanderplatz)\u00b6"
        },
        {
            "cell_type": "code",
            "execution_count": null,
            "metadata": {},
            "outputs": [],
            "source": ""
        }
    ],
    "metadata": {
        "kernelspec": {
            "display_name": "Python 3.6",
            "language": "python",
            "name": "python3"
        },
        "language_info": {
            "codemirror_mode": {
                "name": "ipython",
                "version": 3
            },
            "file_extension": ".py",
            "mimetype": "text/x-python",
            "name": "python",
            "nbconvert_exporter": "python",
            "pygments_lexer": "ipython3",
            "version": "3.6.9"
        }
    },
    "nbformat": 4,
    "nbformat_minor": 1
}